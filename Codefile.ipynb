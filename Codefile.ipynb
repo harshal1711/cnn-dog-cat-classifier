{
  "nbformat": 4,
  "nbformat_minor": 0,
  "metadata": {
    "colab": {
      "provenance": [],
      "machine_shape": "hm",
      "gpuType": "L4"
    },
    "kernelspec": {
      "name": "python3",
      "display_name": "Python 3"
    },
    "language_info": {
      "name": "python"
    },
    "accelerator": "GPU"
  },
  "cells": [
    {
      "cell_type": "markdown",
      "source": [
        "### Start"
      ],
      "metadata": {
        "id": "s_nFjis7HvZX"
      }
    },
    {
      "cell_type": "code",
      "execution_count": 1,
      "metadata": {
        "colab": {
          "base_uri": "https://localhost:8080/"
        },
        "id": "Ox8VCnjb0F0T",
        "outputId": "857b9898-42b9-42df-ad94-0a326de85b54"
      },
      "outputs": [
        {
          "output_type": "stream",
          "name": "stdout",
          "text": [
            "Drive already mounted at /content/drive; to attempt to forcibly remount, call drive.mount(\"/content/drive\", force_remount=True).\n"
          ]
        }
      ],
      "source": [
        "from google.colab import drive\n",
        "drive.mount('/content/drive')"
      ]
    },
    {
      "cell_type": "code",
      "source": [
        "!rm -rf /content/train/\n",
        "!rm -rf /content/test/\n"
      ],
      "metadata": {
        "id": "XTND3wVWLcm8"
      },
      "execution_count": 5,
      "outputs": []
    },
    {
      "cell_type": "code",
      "source": [
        "!unzip -q \"/content/drive/MyDrive/train.zip\" -d /content/train\n",
        "!unzip -q \"/content/drive/MyDrive/test.zip\" -d /content/test"
      ],
      "metadata": {
        "id": "HkJBrOmqDwmN"
      },
      "execution_count": 6,
      "outputs": []
    },
    {
      "cell_type": "code",
      "source": [
        "import tensorflow as tf\n",
        "from tensorflow.keras.applications import ResNet50\n",
        "from tensorflow.keras.models import Model\n",
        "from tensorflow.keras.layers import Dense, GlobalAveragePooling2D, Dropout\n",
        "from tensorflow.keras.preprocessing.image import ImageDataGenerator\n",
        "from tensorflow.keras.optimizers import Adam\n",
        "from tensorflow.keras import layers\n",
        "import os"
      ],
      "metadata": {
        "id": "M_0rvz7c3K89"
      },
      "execution_count": 7,
      "outputs": []
    },
    {
      "cell_type": "markdown",
      "source": [
        "### Run a basic ResNet50 model with transfer learning, first locking theta1 parameters and training for 5 epochs and then releasing the lock on theta1 and training for 5 epochs"
      ],
      "metadata": {
        "id": "x3FHrW_UH4zU"
      }
    },
    {
      "cell_type": "code",
      "source": [
        "import os\n",
        "import shutil\n",
        "\n",
        "# ✅ Create proper structure\n",
        "os.makedirs(\"/content/train/cats\", exist_ok=True)\n",
        "os.makedirs(\"/content/train/dogs\", exist_ok=True)\n",
        "\n",
        "# ✅ Move images from /content/train/train/* → /content/train/cats|dogs/\n",
        "for filename in os.listdir(\"/content/train/train\"):\n",
        "    src_path = os.path.join(\"/content/train/train\", filename)\n",
        "    if os.path.isfile(src_path):\n",
        "        if filename.startswith(\"cat\"):\n",
        "            shutil.move(src_path, f\"/content/train/cats/{filename}\")\n",
        "        elif filename.startswith(\"dog\"):\n",
        "            shutil.move(src_path, f\"/content/train/dogs/{filename}\")\n",
        "\n",
        "# ✅ (Optional) Delete the now-empty /content/train/train/\n",
        "shutil.rmtree(\"/content/train/train\", ignore_errors=True)\n"
      ],
      "metadata": {
        "id": "sMJ3PVNB5LpP"
      },
      "execution_count": 4,
      "outputs": []
    },
    {
      "cell_type": "code",
      "source": [
        "# Data augmentation and rescaling\n",
        "train_datagen = ImageDataGenerator(\n",
        "    rescale=1./255,\n",
        "    validation_split=0.2,  # 80% training, 20% validation\n",
        "    rotation_range=15,\n",
        "    shear_range=0.2,\n",
        "    zoom_range=0.2,\n",
        "    horizontal_flip=True\n",
        ")\n",
        "\n",
        "# Training generator\n",
        "train_gen = train_datagen.flow_from_directory(\n",
        "    '/content/train',\n",
        "    target_size=(224, 224),\n",
        "    batch_size=32,\n",
        "    class_mode='binary',\n",
        "    subset='training'\n",
        ")\n",
        "\n",
        "# Validation generator\n",
        "val_gen = train_datagen.flow_from_directory(\n",
        "    '/content/train',\n",
        "    target_size=(224, 224),\n",
        "    batch_size=32,\n",
        "    class_mode='binary',\n",
        "    subset='validation'\n",
        ")\n"
      ],
      "metadata": {
        "colab": {
          "base_uri": "https://localhost:8080/"
        },
        "id": "_0Wxr9nR4K3b",
        "outputId": "72d9d6af-a559-46c3-b358-70218abfdc87"
      },
      "execution_count": 20,
      "outputs": [
        {
          "output_type": "stream",
          "name": "stdout",
          "text": [
            "Found 20000 images belonging to 2 classes.\n",
            "Found 5000 images belonging to 2 classes.\n"
          ]
        }
      ]
    },
    {
      "cell_type": "code",
      "source": [
        "# Load pretrained ResNet50 base\n",
        "base_model = ResNet50(weights='imagenet', include_top=False, input_shape=(224, 224, 3))\n",
        "\n",
        "# Freeze all layers up to 'conv1' (theta1)\n",
        "for layer in base_model.layers:\n",
        "    layer.trainable = False\n",
        "    if 'conv1' in layer.name:\n",
        "        break\n",
        "\n",
        "# Add custom head\n",
        "x = base_model.output\n",
        "x = GlobalAveragePooling2D()(x)\n",
        "x = Dense(128, activation='relu')(x)\n",
        "x = Dropout(0.5)(x)\n",
        "predictions = Dense(1, activation='sigmoid')(x)\n",
        "\n",
        "model = Model(inputs=base_model.input, outputs=predictions)\n",
        "\n",
        "# Compile model\n",
        "model.compile(optimizer=Adam(learning_rate=1e-4), loss='binary_crossentropy', metrics=['accuracy'])\n",
        "\n",
        "# Train with theta1 frozen\n",
        "print(\"Training with theta1 frozen...\")\n",
        "history_phase1 = model.fit(\n",
        "    train_gen,\n",
        "    validation_data=val_gen,\n",
        "    epochs=5\n",
        ")"
      ],
      "metadata": {
        "colab": {
          "base_uri": "https://localhost:8080/"
        },
        "id": "85-HfMce6sbO",
        "outputId": "04991ac8-0f17-4189-b248-2326ffd8e5ea"
      },
      "execution_count": 21,
      "outputs": [
        {
          "output_type": "stream",
          "name": "stdout",
          "text": [
            "Training with theta1 frozen...\n"
          ]
        },
        {
          "output_type": "stream",
          "name": "stderr",
          "text": [
            "/usr/local/lib/python3.11/dist-packages/keras/src/trainers/data_adapters/py_dataset_adapter.py:121: UserWarning: Your `PyDataset` class should call `super().__init__(**kwargs)` in its constructor. `**kwargs` can include `workers`, `use_multiprocessing`, `max_queue_size`. Do not pass these arguments to `fit()`, as they will be ignored.\n",
            "  self._warn_if_super_not_called()\n"
          ]
        },
        {
          "output_type": "stream",
          "name": "stdout",
          "text": [
            "Epoch 1/5\n",
            "\u001b[1m625/625\u001b[0m \u001b[32m━━━━━━━━━━━━━━━━━━━━\u001b[0m\u001b[37m\u001b[0m \u001b[1m330s\u001b[0m 438ms/step - accuracy: 0.9411 - loss: 0.1411 - val_accuracy: 0.5298 - val_loss: 0.9689\n",
            "Epoch 2/5\n",
            "\u001b[1m625/625\u001b[0m \u001b[32m━━━━━━━━━━━━━━━━━━━━\u001b[0m\u001b[37m\u001b[0m \u001b[1m269s\u001b[0m 431ms/step - accuracy: 0.9827 - loss: 0.0473 - val_accuracy: 0.9752 - val_loss: 0.0635\n",
            "Epoch 3/5\n",
            "\u001b[1m625/625\u001b[0m \u001b[32m━━━━━━━━━━━━━━━━━━━━\u001b[0m\u001b[37m\u001b[0m \u001b[1m271s\u001b[0m 434ms/step - accuracy: 0.9864 - loss: 0.0371 - val_accuracy: 0.9584 - val_loss: 0.1249\n",
            "Epoch 4/5\n",
            "\u001b[1m625/625\u001b[0m \u001b[32m━━━━━━━━━━━━━━━━━━━━\u001b[0m\u001b[37m\u001b[0m \u001b[1m269s\u001b[0m 430ms/step - accuracy: 0.9862 - loss: 0.0367 - val_accuracy: 0.9802 - val_loss: 0.0594\n",
            "Epoch 5/5\n",
            "\u001b[1m625/625\u001b[0m \u001b[32m━━━━━━━━━━━━━━━━━━━━\u001b[0m\u001b[37m\u001b[0m \u001b[1m269s\u001b[0m 430ms/step - accuracy: 0.9907 - loss: 0.0294 - val_accuracy: 0.9752 - val_loss: 0.0727\n"
          ]
        }
      ]
    },
    {
      "cell_type": "code",
      "source": [
        "# Unfreeze all layers\n",
        "for layer in base_model.layers:\n",
        "    layer.trainable = True\n",
        "\n",
        "# Recompile with smaller learning rate\n",
        "model.compile(optimizer=Adam(learning_rate=1e-5), loss='binary_crossentropy', metrics=['accuracy'])\n",
        "\n",
        "# Fine-tune the entire model\n",
        "print(\"Fine-tuning full network...\")\n",
        "history_phase2 = model.fit(\n",
        "    train_gen,\n",
        "    validation_data=val_gen,\n",
        "    epochs=5\n",
        ")\n"
      ],
      "metadata": {
        "colab": {
          "base_uri": "https://localhost:8080/"
        },
        "id": "cq0o87Sf7INn",
        "outputId": "638683c4-44c1-47ea-c204-ab306413b4e7"
      },
      "execution_count": 22,
      "outputs": [
        {
          "output_type": "stream",
          "name": "stdout",
          "text": [
            "Fine-tuning full network...\n",
            "Epoch 1/5\n",
            "\u001b[1m625/625\u001b[0m \u001b[32m━━━━━━━━━━━━━━━━━━━━\u001b[0m\u001b[37m\u001b[0m \u001b[1m334s\u001b[0m 445ms/step - accuracy: 0.9922 - loss: 0.0206 - val_accuracy: 0.9860 - val_loss: 0.0418\n",
            "Epoch 2/5\n",
            "\u001b[1m625/625\u001b[0m \u001b[32m━━━━━━━━━━━━━━━━━━━━\u001b[0m\u001b[37m\u001b[0m \u001b[1m271s\u001b[0m 433ms/step - accuracy: 0.9966 - loss: 0.0121 - val_accuracy: 0.9856 - val_loss: 0.0414\n",
            "Epoch 3/5\n",
            "\u001b[1m625/625\u001b[0m \u001b[32m━━━━━━━━━━━━━━━━━━━━\u001b[0m\u001b[37m\u001b[0m \u001b[1m270s\u001b[0m 432ms/step - accuracy: 0.9974 - loss: 0.0074 - val_accuracy: 0.9882 - val_loss: 0.0393\n",
            "Epoch 4/5\n",
            "\u001b[1m625/625\u001b[0m \u001b[32m━━━━━━━━━━━━━━━━━━━━\u001b[0m\u001b[37m\u001b[0m \u001b[1m271s\u001b[0m 433ms/step - accuracy: 0.9981 - loss: 0.0053 - val_accuracy: 0.9876 - val_loss: 0.0429\n",
            "Epoch 5/5\n",
            "\u001b[1m625/625\u001b[0m \u001b[32m━━━━━━━━━━━━━━━━━━━━\u001b[0m\u001b[37m\u001b[0m \u001b[1m270s\u001b[0m 431ms/step - accuracy: 0.9986 - loss: 0.0042 - val_accuracy: 0.9856 - val_loss: 0.0457\n"
          ]
        }
      ]
    },
    {
      "cell_type": "code",
      "source": [
        "import matplotlib.pyplot as plt\n",
        "\n",
        "# Combine losses from both phases\n",
        "loss = history_phase1.history['loss'] + history_phase2.history['loss']\n",
        "val_loss = history_phase1.history['val_loss'] + history_phase2.history['val_loss']\n",
        "\n",
        "# Plot\n",
        "plt.figure(figsize=(10, 5))\n",
        "plt.plot(loss, label='Training Loss')\n",
        "plt.plot(val_loss, label='Validation Loss')\n",
        "plt.title('Training vs Validation Loss')\n",
        "plt.xlabel('Epoch')\n",
        "plt.ylabel('Loss')\n",
        "plt.legend()\n",
        "plt.grid(True)\n",
        "plt.show()\n"
      ],
      "metadata": {
        "colab": {
          "base_uri": "https://localhost:8080/",
          "height": 487
        },
        "id": "DVg-ReWU72E8",
        "outputId": "8c77a854-10fc-4bd8-c8b3-cfe99a06b174"
      },
      "execution_count": 23,
      "outputs": [
        {
          "output_type": "display_data",
          "data": {
            "text/plain": [
              "<Figure size 1000x500 with 1 Axes>"
            ],
            "image/png": "[encoded data removed]"
          },
          "metadata": {}
        }
      ]
    },
    {
      "cell_type": "code",
      "source": [
        "# Step 1: Create a dummy subfolder inside /content/test\n",
        "!mkdir -p /content/test/dummy\n",
        "!mv /content/test/*.jpg /content/test/dummy/\n"
      ],
      "metadata": {
        "id": "8jGZkMC9LF7q",
        "colab": {
          "base_uri": "https://localhost:8080/"
        },
        "outputId": "1ddca9bf-c39f-428c-e9c5-b37c475eecc9"
      },
      "execution_count": 24,
      "outputs": [
        {
          "output_type": "stream",
          "name": "stdout",
          "text": [
            "mv: cannot stat '/content/test/*.jpg': No such file or directory\n"
          ]
        }
      ]
    },
    {
      "cell_type": "code",
      "source": [
        "!rm -rf /content/test/dummy"
      ],
      "metadata": {
        "id": "-18k1UMQZDK8"
      },
      "execution_count": 26,
      "outputs": []
    },
    {
      "cell_type": "code",
      "source": [
        "test_datagen = ImageDataGenerator(rescale=1./255)\n",
        "\n",
        "test_generator = test_datagen.flow_from_directory(\n",
        "    '/content/test',  # points to folder containing 'test' subfolder\n",
        "    target_size=(224, 224),\n",
        "    batch_size=1,\n",
        "    class_mode=None,\n",
        "    shuffle=False\n",
        ")\n"
      ],
      "metadata": {
        "colab": {
          "base_uri": "https://localhost:8080/"
        },
        "id": "ZvBW6xbFKrAn",
        "outputId": "01dee534-8633-42d9-fab9-bd7102193947"
      },
      "execution_count": 27,
      "outputs": [
        {
          "output_type": "stream",
          "name": "stdout",
          "text": [
            "Found 12500 images belonging to 1 classes.\n"
          ]
        }
      ]
    },
    {
      "cell_type": "code",
      "source": [
        "# Predict probabilities with your trained model\n",
        "predictions = model.predict(test_generator, verbose=1)\n",
        "preds_flat = predictions.ravel()\n"
      ],
      "metadata": {
        "colab": {
          "base_uri": "https://localhost:8080/"
        },
        "id": "c2x2QwtWLT9Y",
        "outputId": "aa4b0755-3760-4965-e9b1-e9dd3dc86d97"
      },
      "execution_count": 28,
      "outputs": [
        {
          "output_type": "stream",
          "name": "stderr",
          "text": [
            "/usr/local/lib/python3.11/dist-packages/keras/src/trainers/data_adapters/py_dataset_adapter.py:121: UserWarning: Your `PyDataset` class should call `super().__init__(**kwargs)` in its constructor. `**kwargs` can include `workers`, `use_multiprocessing`, `max_queue_size`. Do not pass these arguments to `fit()`, as they will be ignored.\n",
            "  self._warn_if_super_not_called()\n"
          ]
        },
        {
          "output_type": "stream",
          "name": "stdout",
          "text": [
            "\u001b[1m12500/12500\u001b[0m \u001b[32m━━━━━━━━━━━━━━━━━━━━\u001b[0m\u001b[37m\u001b[0m \u001b[1m84s\u001b[0m 6ms/step\n"
          ]
        }
      ]
    },
    {
      "cell_type": "code",
      "source": [
        "import pandas as pd\n",
        "# Extract file IDs (like 1, 10, 100) from filenames\n",
        "image_ids = [int(os.path.splitext(os.path.basename(path))[0]) for path in test_generator.filenames]\n",
        "\n",
        "# Create submission DataFrame\n",
        "submission_df = pd.DataFrame({\n",
        "    'id': image_ids,\n",
        "    'label': preds_flat\n",
        "})\n",
        "\n",
        "# Sort by ID to match Kaggle requirement\n",
        "submission_df = submission_df.sort_values('id')\n",
        "\n",
        "# Save CSV\n",
        "submission_df.to_csv('submission.csv', index=False)\n",
        "print(\"csv is ready\")\n"
      ],
      "metadata": {
        "colab": {
          "base_uri": "https://localhost:8080/"
        },
        "id": "fmxaOgFtLeiB",
        "outputId": "710ddb85-3a59-4602-b368-a40f73f976a8"
      },
      "execution_count": 29,
      "outputs": [
        {
          "output_type": "stream",
          "name": "stdout",
          "text": [
            "csv is ready\n"
          ]
        }
      ]
    },
    {
      "cell_type": "markdown",
      "source": [
        "#### For the above submission, I got a log loss on Kaggle of around 0.14. Good start for a baseline model and needed to be explored further"
      ],
      "metadata": {
        "id": "hIF4Q-kNNiTD"
      }
    },
    {
      "cell_type": "code",
      "source": [
        "!ls -lh\n"
      ],
      "metadata": {
        "colab": {
          "base_uri": "https://localhost:8080/"
        },
        "id": "32ypaWmTMhJx",
        "outputId": "8f4ff057-297c-454e-a6b9-1884c2ff74bb"
      },
      "execution_count": 30,
      "outputs": [
        {
          "output_type": "stream",
          "name": "stdout",
          "text": [
            "total 204K\n",
            "drwx------ 7 root root 4.0K Apr 22 05:51 drive\n",
            "drwxr-xr-x 1 root root 4.0K Apr 17 13:36 sample_data\n",
            "-rw-r--r-- 1 root root 187K Apr 22 07:32 submission.csv\n",
            "drwxr-xr-x 3 root root 4.0K Apr 22 07:26 test\n",
            "drwxr-xr-x 4 root root 4.0K Apr 22 06:35 train\n"
          ]
        }
      ]
    },
    {
      "cell_type": "markdown",
      "source": [
        "#### Trying out another approach with an ensemble of ResNet50, EfficientNetB0 and a custom CNN, to see if performance improves"
      ],
      "metadata": {
        "id": "1JPyaVcAONR7"
      }
    },
    {
      "cell_type": "code",
      "source": [
        "from tensorflow.keras.applications import ResNet50\n",
        "from tensorflow.keras.models import Model\n",
        "from tensorflow.keras.layers import Dense, GlobalAveragePooling2D, Dropout\n",
        "\n",
        "def build_resnet50():\n",
        "    base = ResNet50(weights='imagenet', include_top=False, input_shape=(224, 224, 3))\n",
        "    x = GlobalAveragePooling2D()(base.output)\n",
        "    x = Dense(128, activation='relu')(x)\n",
        "    x = Dropout(0.5)(x)\n",
        "    output = Dense(1, activation='sigmoid')(x)\n",
        "    return Model(base.input, output)\n"
      ],
      "metadata": {
        "id": "iEoXdy8DQIL9"
      },
      "execution_count": 31,
      "outputs": []
    },
    {
      "cell_type": "code",
      "source": [
        "from tensorflow.keras.applications import EfficientNetB0\n",
        "\n",
        "def build_efficientnet():\n",
        "    base = EfficientNetB0(weights='imagenet', include_top=False, input_shape=(224, 224, 3))\n",
        "    x = GlobalAveragePooling2D()(base.output)\n",
        "    x = Dense(128, activation='relu')(x)\n",
        "    x = Dropout(0.5)(x)\n",
        "    output = Dense(1, activation='sigmoid')(x)\n",
        "    return Model(base.input, output)\n"
      ],
      "metadata": {
        "id": "MZHH1QknQdpB"
      },
      "execution_count": 32,
      "outputs": []
    },
    {
      "cell_type": "code",
      "source": [
        "from tensorflow.keras.models import Sequential\n",
        "from tensorflow.keras.layers import Conv2D, MaxPooling2D, Flatten\n",
        "\n",
        "def build_custom_cnn():\n",
        "    model = Sequential([\n",
        "        Conv2D(32, (3, 3), activation='relu', input_shape=(224, 224, 3)),\n",
        "        MaxPooling2D(2, 2),\n",
        "        Conv2D(64, (3, 3), activation='relu'),\n",
        "        MaxPooling2D(2, 2),\n",
        "        Flatten(),\n",
        "        Dense(128, activation='relu'),\n",
        "        Dropout(0.5),\n",
        "        Dense(1, activation='sigmoid')\n",
        "    ])\n",
        "    return model\n"
      ],
      "metadata": {
        "id": "5lRAHpllQh0t"
      },
      "execution_count": 33,
      "outputs": []
    },
    {
      "cell_type": "code",
      "source": [
        "def train_transfer_model(model_fn, name=\"model\"):\n",
        "    from tensorflow.keras.optimizers import Adam\n",
        "\n",
        "    # 1. Build model\n",
        "    model = model_fn()\n",
        "\n",
        "    # 2. Freeze base layers\n",
        "    for layer in model.layers:\n",
        "        if hasattr(layer, 'trainable'):\n",
        "            layer.trainable = False\n",
        "        if 'conv1' in layer.name:  # Optionally unfreeze up to conv1\n",
        "            break\n",
        "\n",
        "    model.compile(optimizer=Adam(1e-4), loss='binary_crossentropy', metrics=['accuracy'])\n",
        "    print(f\"Training {name} with base frozen...\")\n",
        "    model.fit(train_gen, validation_data=val_gen, epochs=5)\n",
        "\n",
        "    # 3. Unfreeze all\n",
        "    for layer in model.layers:\n",
        "        if hasattr(layer, 'trainable'):\n",
        "            layer.trainable = True\n",
        "\n",
        "    model.compile(optimizer=Adam(1e-5), loss='binary_crossentropy', metrics=['accuracy'])\n",
        "    print(f\"Fine-tuning full {name} model...\")\n",
        "    model.fit(train_gen, validation_data=val_gen, epochs=5)\n",
        "\n",
        "    return model\n"
      ],
      "metadata": {
        "id": "G1MXaXNio29F"
      },
      "execution_count": 40,
      "outputs": []
    },
    {
      "cell_type": "code",
      "source": [
        "resnet_model = train_transfer_model(build_resnet50, name=\"ResNet50\")\n",
        "effnet_model = train_transfer_model(build_efficientnet, name=\"EfficientNetB0\")\n",
        "\n",
        "custom_model = build_custom_cnn()\n",
        "custom_model.compile(optimizer='adam', loss='binary_crossentropy', metrics=['accuracy'])\n",
        "custom_model.fit(train_gen, validation_data=val_gen, epochs=5)\n"
      ],
      "metadata": {
        "colab": {
          "base_uri": "https://localhost:8080/"
        },
        "id": "nqLVee4IQmS_",
        "outputId": "f50df93e-902f-47ae-f1f6-dea0d26d3f18"
      },
      "execution_count": 41,
      "outputs": [
        {
          "output_type": "stream",
          "name": "stdout",
          "text": [
            "Training ResNet50 with base frozen...\n",
            "Epoch 1/5\n",
            "\u001b[1m625/625\u001b[0m \u001b[32m━━━━━━━━━━━━━━━━━━━━\u001b[0m\u001b[37m\u001b[0m \u001b[1m333s\u001b[0m 441ms/step - accuracy: 0.9439 - loss: 0.1354 - val_accuracy: 0.7682 - val_loss: 0.4837\n",
            "Epoch 2/5\n",
            "\u001b[1m625/625\u001b[0m \u001b[32m━━━━━━━━━━━━━━━━━━━━\u001b[0m\u001b[37m\u001b[0m \u001b[1m270s\u001b[0m 432ms/step - accuracy: 0.9819 - loss: 0.0501 - val_accuracy: 0.9758 - val_loss: 0.0718\n",
            "Epoch 3/5\n",
            "\u001b[1m625/625\u001b[0m \u001b[32m━━━━━━━━━━━━━━━━━━━━\u001b[0m\u001b[37m\u001b[0m \u001b[1m271s\u001b[0m 433ms/step - accuracy: 0.9866 - loss: 0.0374 - val_accuracy: 0.9694 - val_loss: 0.0860\n",
            "Epoch 4/5\n",
            "\u001b[1m625/625\u001b[0m \u001b[32m━━━━━━━━━━━━━━━━━━━━\u001b[0m\u001b[37m\u001b[0m \u001b[1m269s\u001b[0m 431ms/step - accuracy: 0.9903 - loss: 0.0290 - val_accuracy: 0.9750 - val_loss: 0.0675\n",
            "Epoch 5/5\n",
            "\u001b[1m625/625\u001b[0m \u001b[32m━━━━━━━━━━━━━━━━━━━━\u001b[0m\u001b[37m\u001b[0m \u001b[1m270s\u001b[0m 432ms/step - accuracy: 0.9889 - loss: 0.0293 - val_accuracy: 0.9722 - val_loss: 0.0863\n",
            "Fine-tuning full ResNet50 model...\n",
            "Epoch 1/5\n",
            "\u001b[1m625/625\u001b[0m \u001b[32m━━━━━━━━━━━━━━━━━━━━\u001b[0m\u001b[37m\u001b[0m \u001b[1m333s\u001b[0m 444ms/step - accuracy: 0.9929 - loss: 0.0183 - val_accuracy: 0.9852 - val_loss: 0.0401\n",
            "Epoch 2/5\n",
            "\u001b[1m625/625\u001b[0m \u001b[32m━━━━━━━━━━━━━━━━━━━━\u001b[0m\u001b[37m\u001b[0m \u001b[1m271s\u001b[0m 434ms/step - accuracy: 0.9969 - loss: 0.0092 - val_accuracy: 0.9874 - val_loss: 0.0417\n",
            "Epoch 3/5\n",
            "\u001b[1m625/625\u001b[0m \u001b[32m━━━━━━━━━━━━━━━━━━━━\u001b[0m\u001b[37m\u001b[0m \u001b[1m270s\u001b[0m 432ms/step - accuracy: 0.9971 - loss: 0.0082 - val_accuracy: 0.9870 - val_loss: 0.0398\n",
            "Epoch 4/5\n",
            "\u001b[1m625/625\u001b[0m \u001b[32m━━━━━━━━━━━━━━━━━━━━\u001b[0m\u001b[37m\u001b[0m \u001b[1m270s\u001b[0m 432ms/step - accuracy: 0.9980 - loss: 0.0058 - val_accuracy: 0.9886 - val_loss: 0.0462\n",
            "Epoch 5/5\n",
            "\u001b[1m625/625\u001b[0m \u001b[32m━━━━━━━━━━━━━━━━━━━━\u001b[0m\u001b[37m\u001b[0m \u001b[1m272s\u001b[0m 435ms/step - accuracy: 0.9983 - loss: 0.0054 - val_accuracy: 0.9886 - val_loss: 0.0446\n",
            "Training EfficientNetB0 with base frozen...\n",
            "Epoch 1/5\n"
          ]
        },
        {
          "output_type": "stream",
          "name": "stderr",
          "text": [
            "/usr/local/lib/python3.11/dist-packages/keras/src/backend/tensorflow/trainer.py:82: UserWarning: The model does not have any trainable weights.\n",
            "  warnings.warn(\"The model does not have any trainable weights.\")\n"
          ]
        },
        {
          "output_type": "stream",
          "name": "stdout",
          "text": [
            "\u001b[1m625/625\u001b[0m \u001b[32m━━━━━━━━━━━━━━━━━━━━\u001b[0m\u001b[37m\u001b[0m \u001b[1m291s\u001b[0m 442ms/step - accuracy: 0.4934 - loss: 0.7160 - val_accuracy: 0.5000 - val_loss: 0.7029\n",
            "Epoch 2/5\n",
            "\u001b[1m625/625\u001b[0m \u001b[32m━━━━━━━━━━━━━━━━━━━━\u001b[0m\u001b[37m\u001b[0m \u001b[1m268s\u001b[0m 428ms/step - accuracy: 0.4968 - loss: 0.7150 - val_accuracy: 0.5000 - val_loss: 0.7029\n",
            "Epoch 3/5\n",
            "\u001b[1m625/625\u001b[0m \u001b[32m━━━━━━━━━━━━━━━━━━━━\u001b[0m\u001b[37m\u001b[0m \u001b[1m269s\u001b[0m 430ms/step - accuracy: 0.4984 - loss: 0.7140 - val_accuracy: 0.5000 - val_loss: 0.7030\n",
            "Epoch 4/5\n",
            "\u001b[1m625/625\u001b[0m \u001b[32m━━━━━━━━━━━━━━━━━━━━\u001b[0m\u001b[37m\u001b[0m \u001b[1m266s\u001b[0m 426ms/step - accuracy: 0.5046 - loss: 0.7127 - val_accuracy: 0.5000 - val_loss: 0.7030\n",
            "Epoch 5/5\n",
            "\u001b[1m625/625\u001b[0m \u001b[32m━━━━━━━━━━━━━━━━━━━━\u001b[0m\u001b[37m\u001b[0m \u001b[1m265s\u001b[0m 424ms/step - accuracy: 0.4989 - loss: 0.7140 - val_accuracy: 0.5000 - val_loss: 0.7029\n",
            "Fine-tuning full EfficientNetB0 model...\n",
            "Epoch 1/5\n",
            "\u001b[1m625/625\u001b[0m \u001b[32m━━━━━━━━━━━━━━━━━━━━\u001b[0m\u001b[37m\u001b[0m \u001b[1m350s\u001b[0m 447ms/step - accuracy: 0.7241 - loss: 0.5321 - val_accuracy: 0.8374 - val_loss: 0.3386\n",
            "Epoch 2/5\n",
            "\u001b[1m625/625\u001b[0m \u001b[32m━━━━━━━━━━━━━━━━━━━━\u001b[0m\u001b[37m\u001b[0m \u001b[1m272s\u001b[0m 434ms/step - accuracy: 0.9495 - loss: 0.1524 - val_accuracy: 0.9162 - val_loss: 0.2173\n",
            "Epoch 3/5\n",
            "\u001b[1m625/625\u001b[0m \u001b[32m━━━━━━━━━━━━━━━━━━━━\u001b[0m\u001b[37m\u001b[0m \u001b[1m269s\u001b[0m 430ms/step - accuracy: 0.9609 - loss: 0.1050 - val_accuracy: 0.9058 - val_loss: 0.2202\n",
            "Epoch 4/5\n",
            "\u001b[1m625/625\u001b[0m \u001b[32m━━━━━━━━━━━━━━━━━━━━\u001b[0m\u001b[37m\u001b[0m \u001b[1m269s\u001b[0m 430ms/step - accuracy: 0.9696 - loss: 0.0780 - val_accuracy: 0.9600 - val_loss: 0.1038\n",
            "Epoch 5/5\n",
            "\u001b[1m625/625\u001b[0m \u001b[32m━━━━━━━━━━━━━━━━━━━━\u001b[0m\u001b[37m\u001b[0m \u001b[1m269s\u001b[0m 430ms/step - accuracy: 0.9741 - loss: 0.0675 - val_accuracy: 0.9784 - val_loss: 0.0634\n"
          ]
        },
        {
          "output_type": "stream",
          "name": "stderr",
          "text": [
            "/usr/local/lib/python3.11/dist-packages/keras/src/layers/convolutional/base_conv.py:107: UserWarning: Do not pass an `input_shape`/`input_dim` argument to a layer. When using Sequential models, prefer using an `Input(shape)` object as the first layer in the model instead.\n",
            "  super().__init__(activity_regularizer=activity_regularizer, **kwargs)\n"
          ]
        },
        {
          "output_type": "stream",
          "name": "stdout",
          "text": [
            "Epoch 1/5\n",
            "\u001b[1m625/625\u001b[0m \u001b[32m━━━━━━━━━━━━━━━━━━━━\u001b[0m\u001b[37m\u001b[0m \u001b[1m269s\u001b[0m 427ms/step - accuracy: 0.5800 - loss: 0.9349 - val_accuracy: 0.6618 - val_loss: 0.6229\n",
            "Epoch 2/5\n",
            "\u001b[1m625/625\u001b[0m \u001b[32m━━━━━━━━━━━━━━━━━━━━\u001b[0m\u001b[37m\u001b[0m \u001b[1m267s\u001b[0m 428ms/step - accuracy: 0.6663 - loss: 0.6185 - val_accuracy: 0.6666 - val_loss: 0.6076\n",
            "Epoch 3/5\n",
            "\u001b[1m625/625\u001b[0m \u001b[32m━━━━━━━━━━━━━━━━━━━━\u001b[0m\u001b[37m\u001b[0m \u001b[1m264s\u001b[0m 423ms/step - accuracy: 0.7117 - loss: 0.5619 - val_accuracy: 0.7536 - val_loss: 0.5138\n",
            "Epoch 4/5\n",
            "\u001b[1m625/625\u001b[0m \u001b[32m━━━━━━━━━━━━━━━━━━━━\u001b[0m\u001b[37m\u001b[0m \u001b[1m269s\u001b[0m 430ms/step - accuracy: 0.7513 - loss: 0.5148 - val_accuracy: 0.7772 - val_loss: 0.4754\n",
            "Epoch 5/5\n",
            "\u001b[1m625/625\u001b[0m \u001b[32m━━━━━━━━━━━━━━━━━━━━\u001b[0m\u001b[37m\u001b[0m \u001b[1m266s\u001b[0m 426ms/step - accuracy: 0.7684 - loss: 0.4847 - val_accuracy: 0.7800 - val_loss: 0.4627\n"
          ]
        },
        {
          "output_type": "execute_result",
          "data": {
            "text/plain": [
              "<keras.src.callbacks.history.History at 0x7eddd4987050>"
            ]
          },
          "metadata": {},
          "execution_count": 41
        }
      ]
    },
    {
      "cell_type": "code",
      "source": [
        "# Reset the test generator before each prediction\n",
        "test_generator.reset()\n",
        "resnet_preds = resnet_model.predict(test_generator, verbose=1)\n",
        "\n",
        "test_generator.reset()\n",
        "effnet_preds = effnet_model.predict(test_generator, verbose=1)\n",
        "\n",
        "test_generator.reset()\n",
        "custom_preds = custom_model.predict(test_generator, verbose=1)\n",
        "\n",
        "# Average the predictions\n",
        "ensemble_preds = (resnet_preds + effnet_preds + custom_preds) / 3\n",
        "final_preds = ensemble_preds.ravel()\n"
      ],
      "metadata": {
        "colab": {
          "base_uri": "https://localhost:8080/"
        },
        "id": "cC7l54aFQtDj",
        "outputId": "f5bb4705-953a-4f8b-a131-7e491996ff79"
      },
      "execution_count": 42,
      "outputs": [
        {
          "output_type": "stream",
          "name": "stdout",
          "text": [
            "\u001b[1m12500/12500\u001b[0m \u001b[32m━━━━━━━━━━━━━━━━━━━━\u001b[0m\u001b[37m\u001b[0m \u001b[1m82s\u001b[0m 6ms/step\n",
            "\u001b[1m12500/12500\u001b[0m \u001b[32m━━━━━━━━━━━━━━━━━━━━\u001b[0m\u001b[37m\u001b[0m \u001b[1m78s\u001b[0m 6ms/step\n",
            "\u001b[1m12500/12500\u001b[0m \u001b[32m━━━━━━━━━━━━━━━━━━━━\u001b[0m\u001b[37m\u001b[0m \u001b[1m30s\u001b[0m 2ms/step\n"
          ]
        }
      ]
    },
    {
      "cell_type": "code",
      "source": [
        "import numpy as np\n",
        "import pandas as pd\n",
        "\n",
        "image_ids = [int(os.path.splitext(os.path.basename(path))[0]) for path in test_generator.filenames]\n",
        "\n",
        "submission_df = pd.DataFrame({\n",
        "    'id': image_ids,\n",
        "    'label': np.clip(final_preds, 1e-5, 1 - 1e-5)  # Clip for stable log loss\n",
        "}).sort_values('id')\n",
        "\n",
        "submission_df.to_csv('submission_ensemble.csv', index=False)\n",
        "print(\"✅ Ensemble submission saved.\")\n",
        "submission_path = '/content/drive/MyDrive/submission_ensemble.csv'\n",
        "submission_df.to_csv(submission_path, index=False)\n",
        "print(f\"✅ Submission saved to: {submission_path}\")\n",
        "\n"
      ],
      "metadata": {
        "colab": {
          "base_uri": "https://localhost:8080/"
        },
        "id": "SOp1NEDuQwMw",
        "outputId": "6027e49e-211a-4b0a-dae9-16ea1afd0eaf"
      },
      "execution_count": 43,
      "outputs": [
        {
          "output_type": "stream",
          "name": "stdout",
          "text": [
            "✅ Ensemble submission saved.\n",
            "✅ Submission saved to: /content/drive/MyDrive/submission_ensemble.csv\n"
          ]
        }
      ]
    },
    {
      "cell_type": "markdown",
      "source": [
        "#### In this ensemble, I got a loss of around 0.14 again, so did not see any notable improvement."
      ],
      "metadata": {
        "id": "ow1Wu_y6O31C"
      }
    },
    {
      "cell_type": "markdown",
      "source": [
        "#### Again Proceeding with another ensemble method"
      ],
      "metadata": {
        "id": "-7KhH2QVPEA1"
      }
    },
    {
      "cell_type": "markdown",
      "source": [
        " - First, we will do 5-fold cross-validation to improve robustness of final model\n",
        " - Changed base model to EfficientNetB0\n",
        " - Created an ensemble of 5 models"
      ],
      "metadata": {
        "id": "sCeAx3AIjx41"
      }
    },
    {
      "cell_type": "code",
      "source": [
        "import pandas as pd\n",
        "import glob\n",
        "import os\n",
        "\n",
        "# Step 1: Point to the actual image location\n",
        "image_paths = glob.glob('/content/train/train/*.jpg')\n",
        "\n",
        "# Step 2: Create DataFrame with inferred labels\n",
        "data = []\n",
        "for path in image_paths:\n",
        "    fname = os.path.basename(path)\n",
        "    label = 'dog' if \"dog\" in fname.lower() else 'cat'  # Ensure labels are strings\n",
        "    data.append({'filename': path, 'label': label})\n",
        "\n",
        "train_df = pd.DataFrame(data)\n",
        "print(train_df.head())\n"
      ],
      "metadata": {
        "colab": {
          "base_uri": "https://localhost:8080/"
        },
        "id": "DuBneW-qj2m_",
        "outputId": "f21eea14-0764-493d-dfbb-ea66b9abcc45"
      },
      "execution_count": 14,
      "outputs": [
        {
          "output_type": "stream",
          "name": "stdout",
          "text": [
            "                             filename label\n",
            "0  /content/train/train/cat.12147.jpg   cat\n",
            "1   /content/train/train/cat.8322.jpg   cat\n",
            "2   /content/train/train/dog.7215.jpg   dog\n",
            "3   /content/train/train/dog.5234.jpg   dog\n",
            "4   /content/train/train/dog.1390.jpg   dog\n"
          ]
        }
      ]
    },
    {
      "cell_type": "code",
      "source": [
        "test_df = pd.DataFrame({\n",
        "    'filename': sorted(glob.glob('/content/test/test/*.jpg'))\n",
        "})\n"
      ],
      "metadata": {
        "id": "2uq_DSdsj5Oj"
      },
      "execution_count": 9,
      "outputs": []
    },
    {
      "cell_type": "code",
      "source": [
        "print(f\"Total images: {len(train_df)}\")\n",
        "print(f\"Dogs: {(train_df['label'] == 'dog').sum()}, Cats: {(train_df['label'] == 'cat').sum()}\")\n"
      ],
      "metadata": {
        "colab": {
          "base_uri": "https://localhost:8080/"
        },
        "id": "ac0AdFHykI1W",
        "outputId": "b9d3145b-d80a-47ad-8c3d-8d47196d23ee"
      },
      "execution_count": 16,
      "outputs": [
        {
          "output_type": "stream",
          "name": "stdout",
          "text": [
            "Total images: 25000\n",
            "Dogs: 12500, Cats: 12500\n"
          ]
        }
      ]
    },
    {
      "cell_type": "code",
      "source": [
        "import pandas as pd\n",
        "import numpy as np\n",
        "import os\n",
        "import glob\n",
        "from sklearn.model_selection import KFold\n",
        "from tensorflow.keras.applications import EfficientNetB3\n",
        "from tensorflow.keras.preprocessing.image import ImageDataGenerator\n",
        "from tensorflow.keras.models import Model\n",
        "from tensorflow.keras.layers import GlobalAveragePooling2D, Dense, Dropout\n",
        "from tensorflow.keras.optimizers import Adam\n",
        "from tensorflow.keras.callbacks import EarlyStopping\n",
        "import tensorflow.keras.backend as K"
      ],
      "metadata": {
        "id": "i7_fLiJSkrtC"
      },
      "execution_count": 11,
      "outputs": []
    },
    {
      "cell_type": "code",
      "source": [
        "# Constants\n",
        "IMG_SIZE = (224, 224)\n",
        "BATCH_SIZE = 32\n",
        "EPOCHS = 5\n",
        "KFOLDS = 5\n",
        "models = []\n",
        "preds = []\n"
      ],
      "metadata": {
        "id": "JsYPECAPktCz"
      },
      "execution_count": 12,
      "outputs": []
    },
    {
      "cell_type": "code",
      "source": [
        "# K-Fold CV\n",
        "kf = KFold(n_splits=KFOLDS, shuffle=True, random_state=42)\n",
        "for fold, (train_idx, val_idx) in enumerate(kf.split(train_df)):\n",
        "    print(f\"\\n===== Fold {fold+1}/{KFOLDS} =====\")\n",
        "    K.clear_session()\n",
        "\n",
        "    train_data = train_df.iloc[train_idx].reset_index(drop=True)\n",
        "    val_data = train_df.iloc[val_idx].reset_index(drop=True)\n",
        "\n",
        "    train_gen = ImageDataGenerator(\n",
        "        rescale=1./255,\n",
        "        rotation_range=15,\n",
        "        zoom_range=0.2,\n",
        "        horizontal_flip=True\n",
        "    ).flow_from_dataframe(\n",
        "        train_data,\n",
        "        x_col='filename', y_col='label',\n",
        "        target_size=IMG_SIZE,\n",
        "        class_mode='binary',\n",
        "        batch_size=BATCH_SIZE\n",
        "    )\n",
        "\n",
        "    val_gen = ImageDataGenerator(rescale=1./255).flow_from_dataframe(\n",
        "        val_data,\n",
        "        x_col='filename', y_col='label',\n",
        "        target_size=IMG_SIZE,\n",
        "        class_mode='binary',\n",
        "        batch_size=BATCH_SIZE\n",
        "    )\n",
        "\n",
        "    # Build model\n",
        "    base_model = EfficientNetB3(include_top=False, weights='imagenet', input_shape=IMG_SIZE + (3,))\n",
        "    x = GlobalAveragePooling2D()(base_model.output)\n",
        "    x = Dense(128, activation='relu')(x)\n",
        "    x = Dropout(0.5)(x)\n",
        "    output = Dense(1, activation='sigmoid')(x)\n",
        "    model = Model(inputs=base_model.input, outputs=output)\n",
        "\n",
        "    # Phase 1: freeze base\n",
        "    for layer in base_model.layers:\n",
        "        layer.trainable = False\n",
        "    model.compile(optimizer=Adam(1e-4), loss='binary_crossentropy', metrics=['accuracy'])\n",
        "    model.fit(train_gen, validation_data=val_gen, epochs=EPOCHS,\n",
        "              callbacks=[EarlyStopping(patience=2, restore_best_weights=True)])\n",
        "\n",
        "    # Phase 2: unfreeze base\n",
        "    for layer in base_model.layers:\n",
        "        layer.trainable = True\n",
        "    model.compile(optimizer=Adam(1e-5), loss='binary_crossentropy', metrics=['accuracy'])\n",
        "    model.fit(train_gen, validation_data=val_gen, epochs=EPOCHS,\n",
        "              callbacks=[EarlyStopping(patience=2, restore_best_weights=True)])\n",
        "\n",
        "    models.append(model)\n",
        "    print(f\"✅ Fold {fold+1} complete.\")\n"
      ],
      "metadata": {
        "colab": {
          "base_uri": "https://localhost:8080/"
        },
        "id": "lFI_yFWwkyOc",
        "outputId": "d359e3ee-caed-4319-baa9-f7d1ff2e757d"
      },
      "execution_count": 17,
      "outputs": [
        {
          "output_type": "stream",
          "name": "stdout",
          "text": [
            "\n",
            "===== Fold 1/5 =====\n",
            "Found 20000 validated image filenames belonging to 2 classes.\n",
            "Found 5000 validated image filenames belonging to 2 classes.\n",
            "Downloading data from https://storage.googleapis.com/keras-applications/efficientnetb3_notop.h5\n",
            "\u001b[1m43941136/43941136\u001b[0m \u001b[32m━━━━━━━━━━━━━━━━━━━━\u001b[0m\u001b[37m\u001b[0m \u001b[1m3s\u001b[0m 0us/step\n"
          ]
        },
        {
          "output_type": "stream",
          "name": "stderr",
          "text": [
            "/usr/local/lib/python3.11/dist-packages/keras/src/trainers/data_adapters/py_dataset_adapter.py:121: UserWarning: Your `PyDataset` class should call `super().__init__(**kwargs)` in its constructor. `**kwargs` can include `workers`, `use_multiprocessing`, `max_queue_size`. Do not pass these arguments to `fit()`, as they will be ignored.\n",
            "  self._warn_if_super_not_called()\n"
          ]
        },
        {
          "output_type": "stream",
          "name": "stdout",
          "text": [
            "Epoch 1/5\n",
            "\u001b[1m625/625\u001b[0m \u001b[32m━━━━━━━━━━━━━━━━━━━━\u001b[0m\u001b[37m\u001b[0m \u001b[1m273s\u001b[0m 377ms/step - accuracy: 0.5349 - loss: 0.6899 - val_accuracy: 0.5882 - val_loss: 0.6725\n",
            "Epoch 2/5\n",
            "\u001b[1m625/625\u001b[0m \u001b[32m━━━━━━━━━━━━━━━━━━━━\u001b[0m\u001b[37m\u001b[0m \u001b[1m218s\u001b[0m 349ms/step - accuracy: 0.5756 - loss: 0.6763 - val_accuracy: 0.6062 - val_loss: 0.6669\n",
            "Epoch 3/5\n",
            "\u001b[1m625/625\u001b[0m \u001b[32m━━━━━━━━━━━━━━━━━━━━\u001b[0m\u001b[37m\u001b[0m \u001b[1m218s\u001b[0m 349ms/step - accuracy: 0.5873 - loss: 0.6722 - val_accuracy: 0.6044 - val_loss: 0.6641\n",
            "Epoch 4/5\n",
            "\u001b[1m625/625\u001b[0m \u001b[32m━━━━━━━━━━━━━━━━━━━━\u001b[0m\u001b[37m\u001b[0m \u001b[1m218s\u001b[0m 348ms/step - accuracy: 0.5885 - loss: 0.6730 - val_accuracy: 0.6052 - val_loss: 0.6629\n",
            "Epoch 5/5\n",
            "\u001b[1m625/625\u001b[0m \u001b[32m━━━━━━━━━━━━━━━━━━━━\u001b[0m\u001b[37m\u001b[0m \u001b[1m220s\u001b[0m 352ms/step - accuracy: 0.5883 - loss: 0.6705 - val_accuracy: 0.5956 - val_loss: 0.6648\n",
            "Epoch 1/5\n",
            "\u001b[1m625/625\u001b[0m \u001b[32m━━━━━━━━━━━━━━━━━━━━\u001b[0m\u001b[37m\u001b[0m \u001b[1m352s\u001b[0m 375ms/step - accuracy: 0.7223 - loss: 0.5309 - val_accuracy: 0.9476 - val_loss: 0.1617\n",
            "Epoch 2/5\n",
            "\u001b[1m625/625\u001b[0m \u001b[32m━━━━━━━━━━━━━━━━━━━━\u001b[0m\u001b[37m\u001b[0m \u001b[1m221s\u001b[0m 353ms/step - accuracy: 0.9551 - loss: 0.1264 - val_accuracy: 0.9778 - val_loss: 0.0720\n",
            "Epoch 3/5\n",
            "\u001b[1m625/625\u001b[0m \u001b[32m━━━━━━━━━━━━━━━━━━━━\u001b[0m\u001b[37m\u001b[0m \u001b[1m220s\u001b[0m 352ms/step - accuracy: 0.9709 - loss: 0.0804 - val_accuracy: 0.9722 - val_loss: 0.0711\n",
            "Epoch 4/5\n",
            "\u001b[1m625/625\u001b[0m \u001b[32m━━━━━━━━━━━━━━━━━━━━\u001b[0m\u001b[37m\u001b[0m \u001b[1m223s\u001b[0m 357ms/step - accuracy: 0.9799 - loss: 0.0559 - val_accuracy: 0.9876 - val_loss: 0.0391\n",
            "Epoch 5/5\n",
            "\u001b[1m625/625\u001b[0m \u001b[32m━━━━━━━━━━━━━━━━━━━━\u001b[0m\u001b[37m\u001b[0m \u001b[1m220s\u001b[0m 352ms/step - accuracy: 0.9831 - loss: 0.0468 - val_accuracy: 0.9880 - val_loss: 0.0353\n",
            "✅ Fold 1 complete.\n",
            "\n",
            "===== Fold 2/5 =====\n",
            "Found 20000 validated image filenames belonging to 2 classes.\n",
            "Found 5000 validated image filenames belonging to 2 classes.\n"
          ]
        },
        {
          "output_type": "stream",
          "name": "stderr",
          "text": [
            "/usr/local/lib/python3.11/dist-packages/keras/src/trainers/data_adapters/py_dataset_adapter.py:121: UserWarning: Your `PyDataset` class should call `super().__init__(**kwargs)` in its constructor. `**kwargs` can include `workers`, `use_multiprocessing`, `max_queue_size`. Do not pass these arguments to `fit()`, as they will be ignored.\n",
            "  self._warn_if_super_not_called()\n"
          ]
        },
        {
          "output_type": "stream",
          "name": "stdout",
          "text": [
            "Epoch 1/5\n",
            "\u001b[1m625/625\u001b[0m \u001b[32m━━━━━━━━━━━━━━━━━━━━\u001b[0m\u001b[37m\u001b[0m \u001b[1m265s\u001b[0m 374ms/step - accuracy: 0.5436 - loss: 0.6875 - val_accuracy: 0.6198 - val_loss: 0.6689\n",
            "Epoch 2/5\n",
            "\u001b[1m625/625\u001b[0m \u001b[32m━━━━━━━━━━━━━━━━━━━━\u001b[0m\u001b[37m\u001b[0m \u001b[1m220s\u001b[0m 353ms/step - accuracy: 0.5616 - loss: 0.6802 - val_accuracy: 0.5956 - val_loss: 0.6667\n",
            "Epoch 3/5\n",
            "\u001b[1m625/625\u001b[0m \u001b[32m━━━━━━━━━━━━━━━━━━━━\u001b[0m\u001b[37m\u001b[0m \u001b[1m219s\u001b[0m 351ms/step - accuracy: 0.5841 - loss: 0.6720 - val_accuracy: 0.5856 - val_loss: 0.6688\n",
            "Epoch 4/5\n",
            "\u001b[1m625/625\u001b[0m \u001b[32m━━━━━━━━━━━━━━━━━━━━\u001b[0m\u001b[37m\u001b[0m \u001b[1m221s\u001b[0m 353ms/step - accuracy: 0.5822 - loss: 0.6735 - val_accuracy: 0.6142 - val_loss: 0.6559\n",
            "Epoch 5/5\n",
            "\u001b[1m625/625\u001b[0m \u001b[32m━━━━━━━━━━━━━━━━━━━━\u001b[0m\u001b[37m\u001b[0m \u001b[1m221s\u001b[0m 354ms/step - accuracy: 0.5810 - loss: 0.6748 - val_accuracy: 0.6056 - val_loss: 0.6600\n",
            "Epoch 1/5\n",
            "\u001b[1m625/625\u001b[0m \u001b[32m━━━━━━━━━━━━━━━━━━━━\u001b[0m\u001b[37m\u001b[0m \u001b[1m346s\u001b[0m 378ms/step - accuracy: 0.7547 - loss: 0.4902 - val_accuracy: 0.9332 - val_loss: 0.1824\n",
            "Epoch 2/5\n",
            "\u001b[1m625/625\u001b[0m \u001b[32m━━━━━━━━━━━━━━━━━━━━\u001b[0m\u001b[37m\u001b[0m \u001b[1m223s\u001b[0m 356ms/step - accuracy: 0.9570 - loss: 0.1235 - val_accuracy: 0.9778 - val_loss: 0.0616\n",
            "Epoch 3/5\n",
            "\u001b[1m625/625\u001b[0m \u001b[32m━━━━━━━━━━━━━━━━━━━━\u001b[0m\u001b[37m\u001b[0m \u001b[1m223s\u001b[0m 356ms/step - accuracy: 0.9738 - loss: 0.0747 - val_accuracy: 0.9802 - val_loss: 0.0537\n",
            "Epoch 4/5\n",
            "\u001b[1m625/625\u001b[0m \u001b[32m━━━━━━━━━━━━━━━━━━━━\u001b[0m\u001b[37m\u001b[0m \u001b[1m221s\u001b[0m 354ms/step - accuracy: 0.9777 - loss: 0.0591 - val_accuracy: 0.9862 - val_loss: 0.0368\n",
            "Epoch 5/5\n",
            "\u001b[1m625/625\u001b[0m \u001b[32m━━━━━━━━━━━━━━━━━━━━\u001b[0m\u001b[37m\u001b[0m \u001b[1m221s\u001b[0m 353ms/step - accuracy: 0.9838 - loss: 0.0442 - val_accuracy: 0.9872 - val_loss: 0.0329\n",
            "✅ Fold 2 complete.\n",
            "\n",
            "===== Fold 3/5 =====\n",
            "Found 20000 validated image filenames belonging to 2 classes.\n",
            "Found 5000 validated image filenames belonging to 2 classes.\n"
          ]
        },
        {
          "output_type": "stream",
          "name": "stderr",
          "text": [
            "/usr/local/lib/python3.11/dist-packages/keras/src/trainers/data_adapters/py_dataset_adapter.py:121: UserWarning: Your `PyDataset` class should call `super().__init__(**kwargs)` in its constructor. `**kwargs` can include `workers`, `use_multiprocessing`, `max_queue_size`. Do not pass these arguments to `fit()`, as they will be ignored.\n",
            "  self._warn_if_super_not_called()\n"
          ]
        },
        {
          "output_type": "stream",
          "name": "stdout",
          "text": [
            "Epoch 1/5\n",
            "\u001b[1m625/625\u001b[0m \u001b[32m━━━━━━━━━━━━━━━━━━━━\u001b[0m\u001b[37m\u001b[0m \u001b[1m261s\u001b[0m 368ms/step - accuracy: 0.5445 - loss: 0.6872 - val_accuracy: 0.5956 - val_loss: 0.6703\n",
            "Epoch 2/5\n",
            "\u001b[1m625/625\u001b[0m \u001b[32m━━━━━━━━━━━━━━━━━━━━\u001b[0m\u001b[37m\u001b[0m \u001b[1m219s\u001b[0m 351ms/step - accuracy: 0.5800 - loss: 0.6753 - val_accuracy: 0.6098 - val_loss: 0.6651\n",
            "Epoch 3/5\n",
            "\u001b[1m625/625\u001b[0m \u001b[32m━━━━━━━━━━━━━━━━━━━━\u001b[0m\u001b[37m\u001b[0m \u001b[1m220s\u001b[0m 353ms/step - accuracy: 0.5815 - loss: 0.6722 - val_accuracy: 0.6068 - val_loss: 0.6658\n",
            "Epoch 4/5\n",
            "\u001b[1m625/625\u001b[0m \u001b[32m━━━━━━━━━━━━━━━━━━━━\u001b[0m\u001b[37m\u001b[0m \u001b[1m218s\u001b[0m 349ms/step - accuracy: 0.5870 - loss: 0.6722 - val_accuracy: 0.6072 - val_loss: 0.6640\n",
            "Epoch 5/5\n",
            "\u001b[1m625/625\u001b[0m \u001b[32m━━━━━━━━━━━━━━━━━━━━\u001b[0m\u001b[37m\u001b[0m \u001b[1m221s\u001b[0m 353ms/step - accuracy: 0.5961 - loss: 0.6693 - val_accuracy: 0.6088 - val_loss: 0.6630\n",
            "Epoch 1/5\n",
            "\u001b[1m625/625\u001b[0m \u001b[32m━━━━━━━━━━━━━━━━━━━━\u001b[0m\u001b[37m\u001b[0m \u001b[1m349s\u001b[0m 382ms/step - accuracy: 0.7640 - loss: 0.4770 - val_accuracy: 0.9634 - val_loss: 0.1178\n",
            "Epoch 2/5\n",
            "\u001b[1m625/625\u001b[0m \u001b[32m━━━━━━━━━━━━━━━━━━━━\u001b[0m\u001b[37m\u001b[0m \u001b[1m222s\u001b[0m 355ms/step - accuracy: 0.9564 - loss: 0.1211 - val_accuracy: 0.9642 - val_loss: 0.0909\n",
            "Epoch 3/5\n",
            "\u001b[1m625/625\u001b[0m \u001b[32m━━━━━━━━━━━━━━━━━━━━\u001b[0m\u001b[37m\u001b[0m \u001b[1m222s\u001b[0m 355ms/step - accuracy: 0.9727 - loss: 0.0769 - val_accuracy: 0.9700 - val_loss: 0.0779\n",
            "Epoch 4/5\n",
            "\u001b[1m625/625\u001b[0m \u001b[32m━━━━━━━━━━━━━━━━━━━━\u001b[0m\u001b[37m\u001b[0m \u001b[1m221s\u001b[0m 353ms/step - accuracy: 0.9784 - loss: 0.0591 - val_accuracy: 0.9848 - val_loss: 0.0445\n",
            "Epoch 5/5\n",
            "\u001b[1m625/625\u001b[0m \u001b[32m━━━━━━━━━━━━━━━━━━━━\u001b[0m\u001b[37m\u001b[0m \u001b[1m223s\u001b[0m 356ms/step - accuracy: 0.9834 - loss: 0.0455 - val_accuracy: 0.9906 - val_loss: 0.0331\n",
            "✅ Fold 3 complete.\n",
            "\n",
            "===== Fold 4/5 =====\n",
            "Found 20000 validated image filenames belonging to 2 classes.\n",
            "Found 5000 validated image filenames belonging to 2 classes.\n"
          ]
        },
        {
          "output_type": "stream",
          "name": "stderr",
          "text": [
            "/usr/local/lib/python3.11/dist-packages/keras/src/trainers/data_adapters/py_dataset_adapter.py:121: UserWarning: Your `PyDataset` class should call `super().__init__(**kwargs)` in its constructor. `**kwargs` can include `workers`, `use_multiprocessing`, `max_queue_size`. Do not pass these arguments to `fit()`, as they will be ignored.\n",
            "  self._warn_if_super_not_called()\n"
          ]
        },
        {
          "output_type": "stream",
          "name": "stdout",
          "text": [
            "Epoch 1/5\n",
            "\u001b[1m625/625\u001b[0m \u001b[32m━━━━━━━━━━━━━━━━━━━━\u001b[0m\u001b[37m\u001b[0m \u001b[1m266s\u001b[0m 375ms/step - accuracy: 0.5393 - loss: 0.6903 - val_accuracy: 0.5868 - val_loss: 0.6687\n",
            "Epoch 2/5\n",
            "\u001b[1m625/625\u001b[0m \u001b[32m━━━━━━━━━━━━━━━━━━━━\u001b[0m\u001b[37m\u001b[0m \u001b[1m218s\u001b[0m 349ms/step - accuracy: 0.5827 - loss: 0.6752 - val_accuracy: 0.6180 - val_loss: 0.6569\n",
            "Epoch 3/5\n",
            "\u001b[1m625/625\u001b[0m \u001b[32m━━━━━━━━━━━━━━━━━━━━\u001b[0m\u001b[37m\u001b[0m \u001b[1m220s\u001b[0m 352ms/step - accuracy: 0.5797 - loss: 0.6732 - val_accuracy: 0.6088 - val_loss: 0.6607\n",
            "Epoch 4/5\n",
            "\u001b[1m625/625\u001b[0m \u001b[32m━━━━━━━━━━━━━━━━━━━━\u001b[0m\u001b[37m\u001b[0m \u001b[1m221s\u001b[0m 353ms/step - accuracy: 0.5937 - loss: 0.6684 - val_accuracy: 0.6170 - val_loss: 0.6573\n",
            "Epoch 1/5\n",
            "\u001b[1m625/625\u001b[0m \u001b[32m━━━━━━━━━━━━━━━━━━━━\u001b[0m\u001b[37m\u001b[0m \u001b[1m350s\u001b[0m 380ms/step - accuracy: 0.7537 - loss: 0.4863 - val_accuracy: 0.9586 - val_loss: 0.1267\n",
            "Epoch 2/5\n",
            "\u001b[1m625/625\u001b[0m \u001b[32m━━━━━━━━━━━━━━━━━━━━\u001b[0m\u001b[37m\u001b[0m \u001b[1m223s\u001b[0m 357ms/step - accuracy: 0.9579 - loss: 0.1233 - val_accuracy: 0.9714 - val_loss: 0.0751\n",
            "Epoch 3/5\n",
            "\u001b[1m625/625\u001b[0m \u001b[32m━━━━━━━━━━━━━━━━━━━━\u001b[0m\u001b[37m\u001b[0m \u001b[1m222s\u001b[0m 355ms/step - accuracy: 0.9704 - loss: 0.0773 - val_accuracy: 0.9862 - val_loss: 0.0382\n",
            "Epoch 4/5\n",
            "\u001b[1m625/625\u001b[0m \u001b[32m━━━━━━━━━━━━━━━━━━━━\u001b[0m\u001b[37m\u001b[0m \u001b[1m223s\u001b[0m 356ms/step - accuracy: 0.9792 - loss: 0.0576 - val_accuracy: 0.9850 - val_loss: 0.0392\n",
            "Epoch 5/5\n",
            "\u001b[1m625/625\u001b[0m \u001b[32m━━━━━━━━━━━━━━━━━━━━\u001b[0m\u001b[37m\u001b[0m \u001b[1m223s\u001b[0m 357ms/step - accuracy: 0.9819 - loss: 0.0443 - val_accuracy: 0.9884 - val_loss: 0.0302\n",
            "✅ Fold 4 complete.\n",
            "\n",
            "===== Fold 5/5 =====\n",
            "Found 20000 validated image filenames belonging to 2 classes.\n",
            "Found 5000 validated image filenames belonging to 2 classes.\n"
          ]
        },
        {
          "output_type": "stream",
          "name": "stderr",
          "text": [
            "/usr/local/lib/python3.11/dist-packages/keras/src/trainers/data_adapters/py_dataset_adapter.py:121: UserWarning: Your `PyDataset` class should call `super().__init__(**kwargs)` in its constructor. `**kwargs` can include `workers`, `use_multiprocessing`, `max_queue_size`. Do not pass these arguments to `fit()`, as they will be ignored.\n",
            "  self._warn_if_super_not_called()\n"
          ]
        },
        {
          "output_type": "stream",
          "name": "stdout",
          "text": [
            "Epoch 1/5\n",
            "\u001b[1m625/625\u001b[0m \u001b[32m━━━━━━━━━━━━━━━━━━━━\u001b[0m\u001b[37m\u001b[0m \u001b[1m267s\u001b[0m 376ms/step - accuracy: 0.5403 - loss: 0.6886 - val_accuracy: 0.5890 - val_loss: 0.6711\n",
            "Epoch 2/5\n",
            "\u001b[1m625/625\u001b[0m \u001b[32m━━━━━━━━━━━━━━━━━━━━\u001b[0m\u001b[37m\u001b[0m \u001b[1m221s\u001b[0m 353ms/step - accuracy: 0.5786 - loss: 0.6749 - val_accuracy: 0.6098 - val_loss: 0.6612\n",
            "Epoch 3/5\n",
            "\u001b[1m625/625\u001b[0m \u001b[32m━━━━━━━━━━━━━━━━━━━━\u001b[0m\u001b[37m\u001b[0m \u001b[1m219s\u001b[0m 350ms/step - accuracy: 0.5872 - loss: 0.6704 - val_accuracy: 0.6016 - val_loss: 0.6642\n",
            "Epoch 4/5\n",
            "\u001b[1m625/625\u001b[0m \u001b[32m━━━━━━━━━━━━━━━━━━━━\u001b[0m\u001b[37m\u001b[0m \u001b[1m221s\u001b[0m 354ms/step - accuracy: 0.5848 - loss: 0.6705 - val_accuracy: 0.6102 - val_loss: 0.6586\n",
            "Epoch 5/5\n",
            "\u001b[1m625/625\u001b[0m \u001b[32m━━━━━━━━━━━━━━━━━━━━\u001b[0m\u001b[37m\u001b[0m \u001b[1m222s\u001b[0m 355ms/step - accuracy: 0.5917 - loss: 0.6700 - val_accuracy: 0.6082 - val_loss: 0.6595\n",
            "Epoch 1/5\n",
            "\u001b[1m625/625\u001b[0m \u001b[32m━━━━━━━━━━━━━━━━━━━━\u001b[0m\u001b[37m\u001b[0m \u001b[1m345s\u001b[0m 379ms/step - accuracy: 0.7702 - loss: 0.4696 - val_accuracy: 0.9610 - val_loss: 0.1220\n",
            "Epoch 2/5\n",
            "\u001b[1m625/625\u001b[0m \u001b[32m━━━━━━━━━━━━━━━━━━━━\u001b[0m\u001b[37m\u001b[0m \u001b[1m224s\u001b[0m 358ms/step - accuracy: 0.9545 - loss: 0.1170 - val_accuracy: 0.9848 - val_loss: 0.0531\n",
            "Epoch 3/5\n",
            "\u001b[1m625/625\u001b[0m \u001b[32m━━━━━━━━━━━━━━━━━━━━\u001b[0m\u001b[37m\u001b[0m \u001b[1m226s\u001b[0m 361ms/step - accuracy: 0.9711 - loss: 0.0775 - val_accuracy: 0.9668 - val_loss: 0.0845\n",
            "Epoch 4/5\n",
            "\u001b[1m625/625\u001b[0m \u001b[32m━━━━━━━━━━━━━━━━━━━━\u001b[0m\u001b[37m\u001b[0m \u001b[1m223s\u001b[0m 356ms/step - accuracy: 0.9774 - loss: 0.0582 - val_accuracy: 0.9882 - val_loss: 0.0377\n",
            "Epoch 5/5\n",
            "\u001b[1m625/625\u001b[0m \u001b[32m━━━━━━━━━━━━━━━━━━━━\u001b[0m\u001b[37m\u001b[0m \u001b[1m223s\u001b[0m 356ms/step - accuracy: 0.9857 - loss: 0.0408 - val_accuracy: 0.9838 - val_loss: 0.0494\n",
            "✅ Fold 5 complete.\n"
          ]
        }
      ]
    },
    {
      "cell_type": "code",
      "source": [
        "from tensorflow.keras.preprocessing.image import ImageDataGenerator\n",
        "\n",
        "test_gen = ImageDataGenerator(rescale=1./255).flow_from_dataframe(\n",
        "    test_df,\n",
        "    x_col='filename',\n",
        "    target_size=IMG_SIZE,\n",
        "    class_mode=None,\n",
        "    shuffle=False,\n",
        "    batch_size=1\n",
        ")\n"
      ],
      "metadata": {
        "colab": {
          "base_uri": "https://localhost:8080/"
        },
        "id": "3InTM3SSJNyx",
        "outputId": "50733f42-1daf-4010-af73-6af60bef659c"
      },
      "execution_count": 18,
      "outputs": [
        {
          "output_type": "stream",
          "name": "stdout",
          "text": [
            "Found 12500 validated image filenames.\n"
          ]
        }
      ]
    },
    {
      "cell_type": "code",
      "source": [
        "import numpy as np\n",
        "\n",
        "all_preds = []\n",
        "\n",
        "for i, model in enumerate(models):\n",
        "    print(f\"Predicting with model {i+1}\")\n",
        "    test_gen.reset()\n",
        "    preds = model.predict(test_gen, verbose=0)\n",
        "    all_preds.append(preds)\n",
        "\n",
        "# Average predictions across all folds\n",
        "final_preds = np.mean(all_preds, axis=0).ravel()\n",
        "\n",
        "# Clip values to avoid log loss issues\n",
        "final_preds = np.clip(final_preds, 1e-5, 1 - 1e-5)\n"
      ],
      "metadata": {
        "colab": {
          "base_uri": "https://localhost:8080/"
        },
        "id": "vYNnt_lPJUzv",
        "outputId": "a46679d3-b83b-444d-f719-d2c4cb7c50c7"
      },
      "execution_count": 19,
      "outputs": [
        {
          "output_type": "stream",
          "name": "stdout",
          "text": [
            "Predicting with model 1\n",
            "Predicting with model 2\n",
            "Predicting with model 3\n",
            "Predicting with model 4\n",
            "Predicting with model 5\n"
          ]
        }
      ]
    },
    {
      "cell_type": "code",
      "source": [
        "# Extract just the image IDs from filenames\n",
        "test_ids = [int(f.split('/')[-1].split('.')[0]) for f in test_df['filename']]\n",
        "\n",
        "submission = pd.DataFrame({\n",
        "    'id': test_ids,\n",
        "    'label': final_preds\n",
        "}).sort_values('id')\n",
        "\n",
        "submission.to_csv('submission_efficientNet.csv', index=False)\n",
        "print(\"submission.csv is ready!\")\n"
      ],
      "metadata": {
        "colab": {
          "base_uri": "https://localhost:8080/"
        },
        "id": "z6WwcG9jJYGc",
        "outputId": "23f69ac4-672c-48a0-c35d-e7b49e01576b"
      },
      "execution_count": 20,
      "outputs": [
        {
          "output_type": "stream",
          "name": "stdout",
          "text": [
            "submission.csv is ready!\n"
          ]
        }
      ]
    }
  ]
}